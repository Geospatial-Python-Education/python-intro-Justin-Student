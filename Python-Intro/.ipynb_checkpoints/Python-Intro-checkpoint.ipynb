{
 "cells": [
  {
   "cell_type": "markdown",
   "metadata": {},
   "source": [
    "# Hello Students!\n",
    "\n",
    "### Welcome to your first Python assignment\n",
    "\n",
    "### You will join the ranks of so many programmers by writing your first code and printing it out"
   ]
  },
  {
   "cell_type": "markdown",
   "metadata": {},
   "source": [
    "---\n",
    "The easiest and most basic function that is built into Python is the ```print``` function.\n",
    "\n",
    "Run the code cells below by hitting ```shift + enter``` "
   ]
  },
  {
   "cell_type": "code",
   "execution_count": 3,
   "metadata": {},
   "outputs": [],
   "source": [
    "# This is a comment and it isn't interpreted by Python so you can \n",
    "# give comments that won't affect the code.\n",
    "\n",
    "# The '?' will bring up a help prompt for the print function\n",
    "print?"
   ]
  },
  {
   "cell_type": "code",
   "execution_count": null,
   "metadata": {},
   "outputs": [],
   "source": [
    "print(\"You are coding!\")"
   ]
  },
  {
   "cell_type": "markdown",
   "metadata": {},
   "source": [
    "---\n",
    "Now it's your turn! Print out the statement ```Hello World!``` \n",
    "\n",
    "This is the first piece of code that has become an industry standard for students to produce..."
   ]
  },
  {
   "cell_type": "code",
   "execution_count": 2,
   "metadata": {},
   "outputs": [
    {
     "name": "stdout",
     "output_type": "stream",
     "text": [
      "Hello World!\n"
     ]
    }
   ],
   "source": [
    "print(\"Hello World!\")"
   ]
  },
  {
   "cell_type": "markdown",
   "metadata": {},
   "source": [
    "In Python variables are declared fairly intuitively\n",
    "\n",
    "```var name = value```\n",
    "\n",
    "And mathematical expressions are too\n",
    "\n",
    "addition: ```+```\n",
    "\n",
    "subtraction: ```-```\n",
    "\n",
    "multiplication: ```*```\n",
    "\n",
    "division: ```/```"
   ]
  },
  {
   "cell_type": "markdown",
   "metadata": {},
   "source": [
    "Assign variables ```a``` and ```b``` to any number you want and print out their addition"
   ]
  },
  {
   "cell_type": "code",
   "execution_count": 3,
   "metadata": {},
   "outputs": [
    {
     "name": "stdout",
     "output_type": "stream",
     "text": [
      "3\n"
     ]
    }
   ],
   "source": [
    "a =1\n",
    "b = 2\n",
    "print(a+b)"
   ]
  },
  {
   "cell_type": "code",
   "execution_count": null,
   "metadata": {},
   "outputs": [],
   "source": []
  }
 ],
 "metadata": {
  "kernelspec": {
   "display_name": "Python 3",
   "language": "python",
   "name": "python3"
  },
  "language_info": {
   "codemirror_mode": {
    "name": "ipython",
    "version": 3
   },
   "file_extension": ".py",
   "mimetype": "text/x-python",
   "name": "python",
   "nbconvert_exporter": "python",
   "pygments_lexer": "ipython3",
   "version": "3.7.3"
  }
 },
 "nbformat": 4,
 "nbformat_minor": 2
}
